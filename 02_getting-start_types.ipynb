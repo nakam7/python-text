{
 "cells": [
  {
   "cell_type": "markdown",
   "metadata": {},
   "source": [
    "# Pythonのデータ型\n",
    "\n",
    "代表的なPythonのデータ型と、便利な使い方を紹介。\n",
    "\n",
    "データ型については、Pythonの公式ドキュメントも参考にしてください。\n",
    "\n",
    "* 組み込み型 https://docs.python.org/ja/3/library/stdtypes.html"
   ]
  },
  {
   "cell_type": "markdown",
   "metadata": {},
   "source": [
    "## 1. 整数型 (int)\n",
    "\n",
    "整数を扱うには、整数型（``int``）を使う。\n",
    "\n",
    "主な演算子には、前節で説明した四則演算（``+``、``-``、``*``、``/``）と剰余（``%``）の他に、累乗（``**``）がある。\n",
    "\n",
    "Python3の整数型は精度の制限がない。他の言語のようなlongはない。"
   ]
  },
  {
   "cell_type": "code",
   "execution_count": 1,
   "metadata": {},
   "outputs": [
    {
     "data": {
      "text/plain": [
       "25"
      ]
     },
     "execution_count": 1,
     "metadata": {},
     "output_type": "execute_result"
    }
   ],
   "source": [
    "5 ** 2"
   ]
  },
  {
   "cell_type": "markdown",
   "metadata": {},
   "source": [
    "## 2. 浮動小数点型 (float)\n",
    "\n",
    "小数を扱うには浮動小数点型（``float``）を使う。\n",
    "\n",
    "整数型と同様の演算子が使える。\n",
    "\n",
    "他の言語のdoubleに相当する。"
   ]
  },
  {
   "cell_type": "code",
   "execution_count": 2,
   "metadata": {},
   "outputs": [
    {
     "data": {
      "text/plain": [
       "10.2"
      ]
     },
     "execution_count": 2,
     "metadata": {},
     "output_type": "execute_result"
    }
   ],
   "source": [
    "5.0 + 5.2"
   ]
  },
  {
   "cell_type": "markdown",
   "metadata": {},
   "source": [
    "## 3. 文字列型 (str)\n",
    "\n",
    "シングルクォート（``'``）かダブルクォート（``\"``）の間に文字を入力する。シングルクォート、ダブルクォートのどちらで書いても機能的な違いはない。文字列内でシングルクォートを使いたい場合は、ダブルクォートで文字列を定義した方がエスケープが不要で楽。逆も同じ。\n",
    "\n",
    "#### エスケープ\n",
    "エスケープすることで、クォート文字そのものや、特殊文字を含めることができる。"
   ]
  },
  {
   "cell_type": "code",
   "execution_count": 3,
   "metadata": {},
   "outputs": [
    {
     "data": {
      "text/plain": [
       "\"I'm Takashi\""
      ]
     },
     "execution_count": 3,
     "metadata": {},
     "output_type": "execute_result"
    }
   ],
   "source": [
    "'I\\'m Takashi'"
   ]
  },
  {
   "cell_type": "code",
   "execution_count": 6,
   "metadata": {},
   "outputs": [
    {
     "name": "stdout",
     "output_type": "stream",
     "text": [
      "Hello\n",
      "World\n"
     ]
    }
   ],
   "source": [
    "print('Hello\\nWorld')"
   ]
  },
  {
   "cell_type": "markdown",
   "metadata": {},
   "source": [
    "#### 三重クォート\n",
    "三重クォートで改行を含む文字列を一度に定義できる。"
   ]
  },
  {
   "cell_type": "code",
   "execution_count": 7,
   "metadata": {},
   "outputs": [
    {
     "data": {
      "text/plain": [
       "'foo\\nbar\\nbaz'"
      ]
     },
     "execution_count": 7,
     "metadata": {},
     "output_type": "execute_result"
    }
   ],
   "source": [
    "\"\"\"foo\n",
    "bar\n",
    "baz\"\"\""
   ]
  },
  {
   "cell_type": "markdown",
   "metadata": {},
   "source": [
    "#### 文字列の連結\n",
    "文字列を連結するにはプラス記号(`+`)を使う。"
   ]
  },
  {
   "cell_type": "code",
   "execution_count": 8,
   "metadata": {
    "scrolled": true
   },
   "outputs": [
    {
     "data": {
      "text/plain": [
       "'Mt.Fuji'"
      ]
     },
     "execution_count": 8,
     "metadata": {},
     "output_type": "execute_result"
    }
   ],
   "source": [
    "'Mt.' + 'Fuji'"
   ]
  },
  {
   "cell_type": "markdown",
   "metadata": {},
   "source": [
    "#### 文字列の分割 (.split() メソッド)\n",
    "\n",
    "文字列を分割するには、 ``.split()`` メソッドを使う。\n",
    "\n",
    "分割したい文字列に対してメソッドを呼び出し、引数に区切り文字（デリミタ）を指定する。"
   ]
  },
  {
   "cell_type": "code",
   "execution_count": 9,
   "metadata": {},
   "outputs": [
    {
     "data": {
      "text/plain": [
       "['pain', 'au', 'chocolat']"
      ]
     },
     "execution_count": 9,
     "metadata": {},
     "output_type": "execute_result"
    }
   ],
   "source": [
    "'pain-au-chocolat'.split('-')"
   ]
  },
  {
   "cell_type": "markdown",
   "metadata": {},
   "source": [
    "## 4. リスト(list)\n",
    "\n",
    "リストはコレクションの1つ。複数の方のデータをひとまとめにできる。可変長配列のようなデータ型。\n",
    "\n",
    "リストを定義するには角括弧（``[ ]``）を使い、含める要素をカンマ（``,``）で区切る。"
   ]
  },
  {
   "cell_type": "code",
   "execution_count": 10,
   "metadata": {},
   "outputs": [
    {
     "data": {
      "text/plain": [
       "['spam', 'egg', 0.5]"
      ]
     },
     "execution_count": 10,
     "metadata": {},
     "output_type": "execute_result"
    }
   ],
   "source": [
    "['spam', 'egg', 0.5]"
   ]
  },
  {
   "cell_type": "code",
   "execution_count": 11,
   "metadata": {},
   "outputs": [
    {
     "data": {
      "text/plain": [
       "['spam', 'ham', 'egg']"
      ]
     },
     "execution_count": 11,
     "metadata": {},
     "output_type": "execute_result"
    }
   ],
   "source": [
    "['spam', 'ham'] + ['egg']              # リストの結合"
   ]
  },
  {
   "cell_type": "code",
   "execution_count": 12,
   "metadata": {},
   "outputs": [
    {
     "data": {
      "text/plain": [
       "['spam', 'spam', 'spam', 'spam', 'spam']"
      ]
     },
     "execution_count": 12,
     "metadata": {},
     "output_type": "execute_result"
    }
   ],
   "source": [
    "['spam'] * 5                           # リストの繰り返し"
   ]
  },
  {
   "cell_type": "code",
   "execution_count": 19,
   "metadata": {
    "scrolled": true
   },
   "outputs": [
    {
     "data": {
      "text/plain": [
       "'spam'"
      ]
     },
     "execution_count": 19,
     "metadata": {},
     "output_type": "execute_result"
    }
   ],
   "source": [
    "['spam', 'ham', 'egg'][0]              # リストの0番目を取得する"
   ]
  },
  {
   "cell_type": "code",
   "execution_count": 14,
   "metadata": {},
   "outputs": [
    {
     "data": {
      "text/plain": [
       "['ham', 'egg']"
      ]
     },
     "execution_count": 14,
     "metadata": {},
     "output_type": "execute_result"
    }
   ],
   "source": [
    "['spam', 'ham', 'egg'][1:]             # リストのスライス(1番目以降)"
   ]
  },
  {
   "cell_type": "code",
   "execution_count": 15,
   "metadata": {},
   "outputs": [
    {
     "data": {
      "text/plain": [
       "3"
      ]
     },
     "execution_count": 15,
     "metadata": {},
     "output_type": "execute_result"
    }
   ],
   "source": [
    "len(['spam', 'ham', 'egg'])            # リストの長さ"
   ]
  },
  {
   "cell_type": "code",
   "execution_count": 16,
   "metadata": {
    "scrolled": true
   },
   "outputs": [
    {
     "data": {
      "text/plain": [
       "True"
      ]
     },
     "execution_count": 16,
     "metadata": {},
     "output_type": "execute_result"
    }
   ],
   "source": [
    "'ham' in ['spam', 'ham', 'egg']        # リストに特定の文字列が含まれるか"
   ]
  },
  {
   "cell_type": "markdown",
   "metadata": {},
   "source": [
    "### シーケンスについて\n",
    "\n",
    "リストはシーケンスの1つ。シーケンスは順序をもった要素の集合を表す。前述のリスト操作は、実はシーケンスとしての操作。\n",
    "\n",
    "文字列型(str)も、文字集合のシーケンスであり、シーケンスとしての操作はリストと同じことができる。"
   ]
  },
  {
   "cell_type": "code",
   "execution_count": 20,
   "metadata": {},
   "outputs": [
    {
     "name": "stdout",
     "output_type": "stream",
     "text": [
      "abcdef\n",
      "spamspamspamspamspam\n",
      "y\n",
      "thon\n",
      "6\n",
      "True\n"
     ]
    }
   ],
   "source": [
    "print(\"abc\" + \"def\")   # 文字列の結合\n",
    "print(\"spam\" * 5)      # 文字列の繰り返し\n",
    "print(\"python\"[1])     # 文字列のインデックス取得\n",
    "print(\"python\"[2:])    # 文字列のスライス\n",
    "print(len(\"python\"))   # 文字列の長さ\n",
    "print(\"t\" in \"python\") # 文字列に特定の文字が含まれるか"
   ]
  },
  {
   "cell_type": "markdown",
   "metadata": {},
   "source": [
    "![インデックス](images/indexing.png)\n",
    "    インデックス"
   ]
  },
  {
   "cell_type": "markdown",
   "metadata": {},
   "source": [
    "シーケンスはイテレータブルなオブジェクトなので、 `for` 文で繰り返し取得することができる。"
   ]
  },
  {
   "cell_type": "code",
   "execution_count": 21,
   "metadata": {},
   "outputs": [
    {
     "name": "stdout",
     "output_type": "stream",
     "text": [
      "H\n",
      "e\n",
      "l\n",
      "l\n",
      "o\n"
     ]
    }
   ],
   "source": [
    "# 文字列の各文字で繰り返し\n",
    "for ch in \"Hello\":\n",
    "    print(ch)"
   ]
  },
  {
   "cell_type": "code",
   "execution_count": 22,
   "metadata": {},
   "outputs": [
    {
     "name": "stdout",
     "output_type": "stream",
     "text": [
      "Hello\n",
      "World\n",
      "100\n"
     ]
    }
   ],
   "source": [
    "# リストの各要素で繰り返し\n",
    "for item in [\"Hello\", \"World\", 100]:\n",
    "    print(item)"
   ]
  },
  {
   "cell_type": "markdown",
   "metadata": {},
   "source": [
    "### リストへの要素追加\n",
    "\n",
    "リストに要素を追加するには、 `.append()` メソッドを使う。"
   ]
  },
  {
   "cell_type": "code",
   "execution_count": 23,
   "metadata": {},
   "outputs": [
    {
     "data": {
      "text/plain": [
       "['cat', 'dog', 'snake', 'elephant']"
      ]
     },
     "execution_count": 23,
     "metadata": {},
     "output_type": "execute_result"
    }
   ],
   "source": [
    "animals = ['cat', 'dog', 'snake']\n",
    "animals.append('elephant')\n",
    "animals"
   ]
  },
  {
   "cell_type": "markdown",
   "metadata": {},
   "source": [
    "リストは変更可能なオブジェクトである。``.append()`` メソッドによって、 ``animals`` というリストの内容が変更される。\n",
    "\n",
    "#### ヒント\n",
    "\n",
    "[listへの要素の追加の動作を確認 ](http://pythontutor.com/live.html#code=animals%20%3D%20%5B'cat',%20'dog',%20'snake'%5D%0Aanimals.append%28'elephant'%29%0Aprint%28animals%29&cumulative=false&curInstr=0&heapPrimitives=false&mode=display&origin=opt-live.js&py=3&rawInputLstJSON=%5B%5D&textReferences=false)"
   ]
  },
  {
   "cell_type": "markdown",
   "metadata": {},
   "source": [
    "### リスト内包表記\n",
    "\n",
    "リスト内包表記はリストの定義方法の1つ。比較的複雑なリストの定義を、シンプルに記述できる。"
   ]
  },
  {
   "cell_type": "code",
   "execution_count": 24,
   "metadata": {},
   "outputs": [
    {
     "data": {
      "text/plain": [
       "[3, 3, 5, 8]"
      ]
     },
     "execution_count": 24,
     "metadata": {},
     "output_type": "execute_result"
    }
   ],
   "source": [
    "# animalsリスト内の「各要素の文字列の長さ」のリストを生成する。\n",
    "[len(animal) for animal in animals]"
   ]
  },
  {
   "cell_type": "code",
   "execution_count": 25,
   "metadata": {},
   "outputs": [
    {
     "data": {
      "text/plain": [
       "[3, 3, 5, 8]"
      ]
     },
     "execution_count": 25,
     "metadata": {},
     "output_type": "execute_result"
    }
   ],
   "source": [
    "#for文での実装\n",
    "ret = []\n",
    "for animal in animals:\n",
    "    ret.append(len(animal))\n",
    "ret"
   ]
  },
  {
   "cell_type": "markdown",
   "metadata": {},
   "source": [
    "### 複数変数への代入\n",
    "\n",
    "リストのようなシーケンス型から他のデータ型に値を代入する際、複数の変数への代入を一度に行える。\n"
   ]
  },
  {
   "cell_type": "code",
   "execution_count": 29,
   "metadata": {},
   "outputs": [
    {
     "data": {
      "text/plain": [
       "'dog'"
      ]
     },
     "execution_count": 29,
     "metadata": {},
     "output_type": "execute_result"
    }
   ],
   "source": [
    "dog, cat = ['dog', 'cat']\n",
    "dog"
   ]
  },
  {
   "cell_type": "markdown",
   "metadata": {},
   "source": [
    "## 5. タプル(tuple)\n",
    "\n",
    "タプルはリストと同じコレクションの1つで、シーケンスの1つ。\n",
    "\n",
    "タプルを定義するには括弧（``( )``）を使い、含める要素をカンマ（``,``）で区切りで並べる。"
   ]
  },
  {
   "cell_type": "code",
   "execution_count": 30,
   "metadata": {},
   "outputs": [
    {
     "data": {
      "text/plain": [
       "('spam', 'ham', 4)"
      ]
     },
     "execution_count": 30,
     "metadata": {},
     "output_type": "execute_result"
    }
   ],
   "source": [
    "('spam', 'ham', 4)"
   ]
  },
  {
   "cell_type": "code",
   "execution_count": 31,
   "metadata": {},
   "outputs": [
    {
     "data": {
      "text/plain": [
       "('Hello',)"
      ]
     },
     "execution_count": 31,
     "metadata": {},
     "output_type": "execute_result"
    }
   ],
   "source": [
    "# 要素が1つのタプルは、カンマが必要になる点に注意\n",
    "('Hello',)"
   ]
  },
  {
   "cell_type": "markdown",
   "metadata": {},
   "source": [
    "リストと違いタプルは不変（immutable）であること。\n",
    "リストの ``.append()`` のような破壊的な操作は存在しない。``.append()`` のような処理を行いたい場合は、タプルの結合により新しいタプルを作るしかない。\n",
    "\n",
    "タプルは、関数の戻り値や不変としたい設定用の値に使う。\n",
    "\n",
    "関数からタプルを返すと、簡単に複数の値を戻り値として返すことができる。\n",
    "\n",
    "また並列処理においては、データが可変であると同期やロックしたりする必要が発生し処理が複雑になるため、不変なタプルであることが好ましいことがある。"
   ]
  },
  {
   "cell_type": "code",
   "execution_count": 32,
   "metadata": {},
   "outputs": [
    {
     "name": "stdout",
     "output_type": "stream",
     "text": [
      "Taro\n",
      "Yamada\n"
     ]
    }
   ],
   "source": [
    "# タプルを返す関数の例\n",
    "def func_tuple_return():\n",
    "    return (\"Taro\", \"Yamada\")\n",
    "\n",
    "first_name, last_name = func_tuple_return() #関数の戻り値を複数の変数に展開\n",
    "\n",
    "print(first_name)\n",
    "print(last_name)"
   ]
  },
  {
   "cell_type": "markdown",
   "metadata": {},
   "source": [
    "## 6. 辞書 (dict)\n",
    "\n",
    "辞書もリスト、タプルと同じコレクション。\n",
    "\n",
    "辞書はリストとは違い、各要素に順番を持たない。代わりにキー（key）と、対応する値（value）を持ちます。\n",
    "\n",
    "辞書を定義するには波括弧（``{}`` )で各要素を囲み、コロン（``:``）でキーと値を書く。\n",
    "値と次のキーの間はカンマ（``,``）で区切る。"
   ]
  },
  {
   "cell_type": "code",
   "execution_count": 33,
   "metadata": {},
   "outputs": [
    {
     "data": {
      "text/plain": [
       "{'user_name': 'taro', 'last_name': 'Yamada'}"
      ]
     },
     "execution_count": 33,
     "metadata": {},
     "output_type": "execute_result"
    }
   ],
   "source": [
    "user_info = {'user_name': 'taro', 'last_name': 'Yamada'}\n",
    "user_info"
   ]
  },
  {
   "cell_type": "code",
   "execution_count": 34,
   "metadata": {},
   "outputs": [
    {
     "data": {
      "text/plain": [
       "'taro'"
      ]
     },
     "execution_count": 34,
     "metadata": {},
     "output_type": "execute_result"
    }
   ],
   "source": [
    "user_info['user_name'] #辞書からの値の取り出し"
   ]
  },
  {
   "cell_type": "code",
   "execution_count": 35,
   "metadata": {},
   "outputs": [
    {
     "data": {
      "text/plain": [
       "{'user_name': 'taro', 'last_name': 'Yamada', 'first_name': 'Taro'}"
      ]
     },
     "execution_count": 35,
     "metadata": {},
     "output_type": "execute_result"
    }
   ],
   "source": [
    "user_info['first_name'] = 'Taro'   #値の設定\n",
    "user_info"
   ]
  },
  {
   "cell_type": "markdown",
   "metadata": {},
   "source": [
    "#### キーの存在チェック\n",
    "辞書内にキーが存在しているかどうかを調べるには、 ``in`` を使う。"
   ]
  },
  {
   "cell_type": "code",
   "execution_count": 36,
   "metadata": {},
   "outputs": [
    {
     "data": {
      "text/plain": [
       "True"
      ]
     },
     "execution_count": 36,
     "metadata": {},
     "output_type": "execute_result"
    }
   ],
   "source": [
    "'user_name' in user_info"
   ]
  },
  {
   "cell_type": "code",
   "execution_count": 37,
   "metadata": {
    "scrolled": true
   },
   "outputs": [
    {
     "data": {
      "text/plain": [
       "False"
      ]
     },
     "execution_count": 37,
     "metadata": {},
     "output_type": "execute_result"
    }
   ],
   "source": [
    "'bio' in user_info"
   ]
  },
  {
   "cell_type": "markdown",
   "metadata": {},
   "source": [
    "#### get() メソッド\n",
    "\n",
    "``.get()`` メソッドで取得すると、キーが存在しない場合には ``None`` が返される。第2引数にキーが存在しない場合のデフォルト値を指定できる。\n"
   ]
  },
  {
   "cell_type": "code",
   "execution_count": null,
   "metadata": {},
   "outputs": [],
   "source": [
    "bio = user_info.get('bio')\n",
    "print(bio)"
   ]
  },
  {
   "cell_type": "code",
   "execution_count": null,
   "metadata": {},
   "outputs": [],
   "source": [
    "user_info.get('bio', 'Nothing')"
   ]
  },
  {
   "cell_type": "markdown",
   "metadata": {},
   "source": [
    "#### dictをforで使う\n",
    "\n",
    "辞書を for 文で使用すると、キーを繰り返し取得することができる。"
   ]
  },
  {
   "cell_type": "code",
   "execution_count": null,
   "metadata": {},
   "outputs": [],
   "source": [
    "for key in user_info:\n",
    "    print(key)"
   ]
  }
 ],
 "metadata": {
  "kernelspec": {
   "display_name": "Python 3",
   "language": "python",
   "name": "python3"
  },
  "language_info": {
   "codemirror_mode": {
    "name": "ipython",
    "version": 3
   },
   "file_extension": ".py",
   "mimetype": "text/x-python",
   "name": "python",
   "nbconvert_exporter": "python",
   "pygments_lexer": "ipython3",
   "version": "3.6.7"
  }
 },
 "nbformat": 4,
 "nbformat_minor": 2
}
