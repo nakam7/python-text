{
 "cells": [
  {
   "cell_type": "markdown",
   "metadata": {},
   "source": [
    "# ファイル操作とモジュール\n",
    "\n",
    "本節では、Pythonでファイルを読み書きする方法と、\n",
    "Pythonファイルの分割と再利用のためモジュールについて説明する。"
   ]
  },
  {
   "cell_type": "markdown",
   "metadata": {},
   "source": [
    "## 1. ファイルへの書き込み\n",
    "\n",
    "まずはPythonでファイルに書き込んでみる。\n",
    "\n",
    "Pythonでファイルを開くには ``open()`` 関数を使う。\n",
    "書き込み用にファイルを開く場合には、以下のように引数を指定してファイルを **書き込みモード** で開き、ファイルオブジェクトを得る。\n",
    "\n",
    "* 第1引数 ファイルのパス\n",
    "* 第2引数 ファイルのモード(この場合は ``w`` で書き込みモード)\n",
    "* encoding引数 ファイルの文字コード(この場合は ``utf-8``)\n",
    "\n",
    "得られたファイルオブジェクトに `.write()`メソッドで書き込みを行う。\n",
    "\n",
    "書き込み完了後にファイルオブジェクトを `.close()` メソッドでクローズする。"
   ]
  },
  {
   "cell_type": "code",
   "execution_count": 2,
   "metadata": {},
   "outputs": [],
   "source": [
    "f = open('pycamp.txt', 'w', encoding='utf-8')\n",
    "f.write('Hello')\n",
    "f.write(' Python\\n')\n",
    "f.write('こんにちはPython\\n')\n",
    "f.close()"
   ]
  },
  {
   "cell_type": "markdown",
   "metadata": {},
   "source": [
    "## 2.  ファイルの読み込み\n",
    "\n",
    "ファイルの中身を読み込むには、ファイルを読み込みモード(``r``)で開き、その後ファイルオブジェクトの ``.read()`` メソッドでファイルの中身を読み込む。"
   ]
  },
  {
   "cell_type": "code",
   "execution_count": 3,
   "metadata": {},
   "outputs": [
    {
     "name": "stdout",
     "output_type": "stream",
     "text": [
      "Hello Python\n",
      "こんにちはPython\n",
      "\n"
     ]
    }
   ],
   "source": [
    "f = open('pycamp.txt', 'r', encoding='utf-8')\n",
    "txt = f.read()\n",
    "f.close()\n",
    "print(txt)\n"
   ]
  },
  {
   "cell_type": "code",
   "execution_count": 4,
   "metadata": {},
   "outputs": [
    {
     "name": "stdout",
     "output_type": "stream",
     "text": [
      "Hello Python\n",
      "こんにちはPython\n",
      "\n"
     ]
    }
   ],
   "source": [
    "# openの第2引数のデフォルトは読み込みモードなので省略可能\n",
    "f = open('pycamp.txt', encoding='utf-8')\n",
    "print(f.read())\n",
    "f.close()"
   ]
  },
  {
   "cell_type": "markdown",
   "metadata": {},
   "source": [
    "#### with文によるファイルのopenとclose\n",
    "\n",
    "ファイルを扱う際には、 [with文](https://docs.python.org/ja/3/reference/compound_stmts.html#with) を使うと便利。\n",
    "\n",
    "``with`` 文を使うことで、ファイルのクローズを自動で行えます。処理中に例外が発生しても必ずファイルを閉じることができる"
   ]
  },
  {
   "cell_type": "code",
   "execution_count": 5,
   "metadata": {},
   "outputs": [
    {
     "name": "stdout",
     "output_type": "stream",
     "text": [
      "Hello Python\n",
      "こんにちはPython\n",
      "\n"
     ]
    }
   ],
   "source": [
    "with open('pycamp.txt', encoding='utf-8') as f: # withブロックを抜けるとファイルオブジェクトfはcloseされる\n",
    "     txt = f.read()\n",
    "print(txt)"
   ]
  },
  {
   "cell_type": "markdown",
   "metadata": {},
   "source": [
    "## 3. モジュール\n",
    "\n",
    "ここまでの処理はJupyter Nodebook上に記述して実行してきたが、1つのファイルに記述していると、プログラムが長くなるとどこに何を書いているのかがわからなくなってくる。\n",
    "\n",
    "処理が長く、複雑になると、複数のファイルに処理を分割する必要がある。役割ごとにファイルを分割することで、それぞれどういった処理をするものかを明確にできる。\n",
    "\n",
    "Pythonでは他のPythonファイルや関数をインポート（import）して再利用できる。処理を複数のファイルに分割し、必要な処理をインポートして使う。\n",
    "\n",
    "実行環境直下に ``calc.py`` というファイルがあるので、インポートして使用する。\n"
   ]
  },
  {
   "cell_type": "code",
   "execution_count": 7,
   "metadata": {},
   "outputs": [],
   "source": [
    "import calc # calcモジュールをimporta"
   ]
  },
  {
   "cell_type": "code",
   "execution_count": 8,
   "metadata": {},
   "outputs": [
    {
     "data": {
      "text/plain": [
       "3"
      ]
     },
     "execution_count": 8,
     "metadata": {},
     "output_type": "execute_result"
    }
   ],
   "source": [
    "calc.add(1, 2)   #calcモジュール内のadd関数を利用"
   ]
  },
  {
   "cell_type": "code",
   "execution_count": 9,
   "metadata": {},
   "outputs": [
    {
     "data": {
      "text/plain": [
       "8"
      ]
     },
     "execution_count": 9,
     "metadata": {},
     "output_type": "execute_result"
    }
   ],
   "source": [
    "calc.sub(10, 2)   #calcモジュール内のsub関数を利用"
   ]
  },
  {
   "cell_type": "markdown",
   "metadata": {},
   "source": [
    "### calcモジュール内の関数をインポート\n",
    "\n",
    "モジュール内の関数をimportするには、fromでモジュールを指定する。\n"
   ]
  },
  {
   "cell_type": "code",
   "execution_count": 11,
   "metadata": {},
   "outputs": [],
   "source": [
    "from calc import add"
   ]
  },
  {
   "cell_type": "code",
   "execution_count": 12,
   "metadata": {},
   "outputs": [
    {
     "data": {
      "text/plain": [
       "5"
      ]
     },
     "execution_count": 12,
     "metadata": {},
     "output_type": "execute_result"
    }
   ],
   "source": [
    "add(2, 3)"
   ]
  },
  {
   "cell_type": "markdown",
   "metadata": {},
   "source": [
    "### インポートして別名をつける\n",
    "\n",
    "as を使うことでインポート時に別名をつけることができる。長い関数名、クラス名を簡略化するために使用したり、インポートした名前が別のモジュールと競合する場合に別名を使用することができる。\n"
   ]
  },
  {
   "cell_type": "code",
   "execution_count": 13,
   "metadata": {},
   "outputs": [
    {
     "data": {
      "text/plain": [
       "30"
      ]
     },
     "execution_count": 13,
     "metadata": {},
     "output_type": "execute_result"
    }
   ],
   "source": [
    "import calc as c\n",
    "c.add(10, 20)"
   ]
  },
  {
   "cell_type": "markdown",
   "metadata": {},
   "source": [
    "### 複数の対象をインポート\n",
    "\n",
    "``calc`` モジュールから ``add()`` 、 ``sub()`` 関数を一度にインポートするには、\n",
    "``import`` 文でカンマ区切りでインポート対象を指定する。"
   ]
  },
  {
   "cell_type": "code",
   "execution_count": 14,
   "metadata": {},
   "outputs": [],
   "source": [
    "from calc import add, sub"
   ]
  },
  {
   "cell_type": "markdown",
   "metadata": {},
   "source": [
    "## 4. 標準ライブラリの利用\n",
    "\n",
    "Python自体も標準でモジュールを提供している。これら標準で提供されているモジュールをまとめて標準ライブラリと呼ぶ。\n",
    "\n",
    "必要な処理をすべて自分で実装するのでなく、積極的に標準ライブラリを利用すること。\n",
    "\n",
    "標準ライブラリを利用すると重複する実装が減り、コードの記述量を大幅に削減できる。\n",
    "\n",
    "参考： Python公式ドキュメント\n",
    "\n",
    "* [Pythonチュートリアル 10. 標準ライブラリミニツアー](https://docs.python.jp/3/tutorial/stdlib.html)\n",
    "* [ライブラリーリファレンス](https://docs.python.jp/3/library/index.html)"
   ]
  },
  {
   "cell_type": "markdown",
   "metadata": {},
   "source": [
    "### 日付を扱うモジュール\n",
    "\n",
    "標準ライブラリの1つ ``datetime`` モジュールを取り上げる。\n",
    "``datetime`` は日付や時刻を簡単に取り扱うことができるモジュールである。\n",
    "ここでは例として日付の計算を行う。\n",
    "\n",
    "``datetime``モジュールには、いつくかのオブジェクトが定義されている。\n",
    "\n",
    "* ``datetime.date`` 日付オブジェクト\n",
    "* ``datetime.datetime`` 日付時刻オブジェクト(モジュール名と同じでややこしいが、datetimeモジュール内のdatetimeオブジェクト)\n",
    "* ``datetime.timedelta`` 経過時間・時間差オブジェクト\n",
    "* etc...\n",
    "\n",
    "``datetime.date()`` コンストラクタを使って日付を意味するオブジェクトを生成できる。"
   ]
  },
  {
   "cell_type": "code",
   "execution_count": 15,
   "metadata": {},
   "outputs": [
    {
     "name": "stdout",
     "output_type": "stream",
     "text": [
      "2016-12-23\n",
      "2016 12 23\n"
     ]
    }
   ],
   "source": [
    "import datetime\n",
    "d = datetime.date(2016, 12, 23)\n",
    "print(d)\n",
    "print(d.year, d.month, d.day)"
   ]
  },
  {
   "cell_type": "markdown",
   "metadata": {},
   "source": [
    "また、 ``datetime.date.today()`` メソッドを使うと今日の日付を取得することができる。"
   ]
  },
  {
   "cell_type": "code",
   "execution_count": 16,
   "metadata": {},
   "outputs": [
    {
     "name": "stdout",
     "output_type": "stream",
     "text": [
      "2019-01-19\n"
     ]
    }
   ],
   "source": [
    "today = datetime.date.today()\n",
    "print(today)  # 実行する日によって結果が異なる"
   ]
  },
  {
   "cell_type": "markdown",
   "metadata": {},
   "source": [
    "ここで、自分が生まれてから今日までに何日経過したのかを計算してみる。\n",
    "自分で実装しようとすると、月ごとに日数が違う、うるう年の計算など面倒な計算が必要となるが、\n",
    "``datetime.date`` を使うと面倒な部分をモジュールが肩代わりしてくれる。\n"
   ]
  },
  {
   "cell_type": "code",
   "execution_count": 18,
   "metadata": {},
   "outputs": [
    {
     "name": "stdout",
     "output_type": "stream",
     "text": [
      "3699\n"
     ]
    }
   ],
   "source": [
    "birthday = datetime.date(2008, 12, 3)  # Python 3.0のリリース日\n",
    "today = datetime.date.today()\n",
    "delta = today - birthday  # 日付や時刻の差を表すdatetime.timedeltaオブジェクト\n",
    "print(delta.days)  # 実行する日によって結果が異なる"
   ]
  },
  {
   "cell_type": "markdown",
   "metadata": {},
   "source": [
    "### 正規表現モジュール\n",
    "\n",
    "次に標準ライブラリの1つ ``re`` モジュールを扱う。\n",
    "``re`` モジュールはPythonで正規表現を扱うためのモジュールである。\n",
    "\n",
    "``re.search()`` 関数を使って、文字列が正規表現にマッチするか調べられる。第1引数に正規表現、第2引数に対象の文字列を渡す。"
   ]
  },
  {
   "cell_type": "code",
   "execution_count": 19,
   "metadata": {},
   "outputs": [
    {
     "data": {
      "text/plain": [
       "<_sre.SRE_Match object; span=(0, 23), match='My name is Taro Yamada.'>"
      ]
     },
     "execution_count": 19,
     "metadata": {},
     "output_type": "execute_result"
    }
   ],
   "source": [
    "import re\n",
    "m = re.search(r'My name is (.+) (.+)\\.', 'My name is Taro Yamada.')\n",
    "m"
   ]
  },
  {
   "cell_type": "markdown",
   "metadata": {},
   "source": [
    "正規表現にマッチした場合、 ``re.search()`` は結果を表すマッチオブジェクトを返す。\n",
    "マッチオブジェクトから値を取り出すには、 ``.group()`` メソッドを呼び出す。\n",
    "\n",
    "正規表現がグループを含む場合、グループの番号を引数に渡して取り出せる。\n",
    "引数を指定しないか、0を指定すると、正規表現全体のマッチが返される。"
   ]
  },
  {
   "cell_type": "code",
   "execution_count": 20,
   "metadata": {},
   "outputs": [
    {
     "name": "stdout",
     "output_type": "stream",
     "text": [
      "My name is Taro Yamada.\n",
      "My name is Taro Yamada.\n",
      "Taro\n",
      "Yamada\n"
     ]
    }
   ],
   "source": [
    "print(m.group())\n",
    "print(m.group(0))\n",
    "print(m.group(1))\n",
    "print(m.group(2))"
   ]
  },
  {
   "cell_type": "markdown",
   "metadata": {},
   "source": [
    "#### コラム: 正規表現の文字列\n",
    "\n",
    "正規表現の文字列にはPythonのraw文字列を使うのが一般的である。\n",
    "\n",
    "``r`` プレフィックスをつけてraw文字列を定義します。\n",
    "raw文字列ではバックスラッシュを特別扱いしないので、\n",
    "正規表現中にバックスラッシュを使う際に ``'\\\\'`` と書く必要がなくなる。\n",
    "\n",
    "上記の例では、raw文字列を使用しない場合には、\n",
    "\n",
    "``'My name is (.+) (.+)\\\\.'               # r'My name is (.+) (.+)\\.'と等価``\n",
    "\n",
    "と書かなければならない。最後の`.`はそのまま使用すると正規表現のワイルドカード文字になるが、ここではピリオド文字として指定したい。\n",
    "\n",
    "したがって正規表現のエスケープとしてのバックスラッシュと文字列のエスケープのためのバックスラッシュの2つが必要になる。\n",
    "\n",
    "raw文字列を使用すると、文字列のエスケープが無効になるため正規表現のエスケープのみで良くなる。\n"
   ]
  }
 ],
 "metadata": {
  "kernelspec": {
   "display_name": "Python 3",
   "language": "python",
   "name": "python3"
  },
  "language_info": {
   "codemirror_mode": {
    "name": "ipython",
    "version": 3
   },
   "file_extension": ".py",
   "mimetype": "text/x-python",
   "name": "python",
   "nbconvert_exporter": "python",
   "pygments_lexer": "ipython3",
   "version": "3.6.7"
  }
 },
 "nbformat": 4,
 "nbformat_minor": 2
}
